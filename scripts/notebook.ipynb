{
 "cells": [
  {
   "cell_type": "markdown",
   "metadata": {},
   "source": [
    "### Auto Acquisition at Feature Positions"
   ]
  },
  {
   "cell_type": "code",
   "execution_count": null,
   "metadata": {},
   "outputs": [],
   "source": [
    "%load_ext autoreload\n",
    "%autoreload 2\n",
    "%matplotlib inline\n",
    "\n",
    "import os\n",
    "\n",
    "\n",
    "from odemis import model\n",
    "import numpy as np\n",
    "import matplotlib.pyplot as plt\n",
    "from pprint import pprint\n",
    "from odemis import model\n",
    "from odemis.acq.move import MicroscopePostureManager, POSITION_NAMES\n",
    "from odemis.acq.stream import FluoStream\n",
    "from odemis.acq.feature import load_project_data, acquire_at_features, FEATURE_DEACTIVE\n",
    "from odemis.util.comp import generate_zlevels\n",
    "import random\n",
    "\n",
    "microscope = model.getMicroscope()\n",
    "pm = MicroscopePostureManager(microscope)\n",
    "\n",
    "stage = model.getComponent(role=\"stage\")\n",
    "stage_bare = model.getComponent(role=\"stage-bare\")\n",
    "\n",
    "ccd = model.getComponent(role=\"ccd\")\n",
    "light = model.getComponent(role=\"light\")\n",
    "focus = model.getComponent(role=\"focus\")\n",
    "em_filter = model.getComponent(role=\"filter\")\n",
    "fm_stream = FluoStream(\n",
    "    name=\"FM\",\n",
    "    detector=ccd,\n",
    "    dataflow=ccd.data,\n",
    "    emitter=light,\n",
    "    em_filter=em_filter,\n",
    "    focuser=focus,\n",
    "    # opm=self._main_data_model.opm,\n",
    "    # detvas={\"exposureTime\"},\n",
    ")\n"
   ]
  },
  {
   "cell_type": "code",
   "execution_count": null,
   "metadata": {},
   "outputs": [],
   "source": [
    "# PROJECT DATA\n",
    "PROJECT_PATH = \"/home/patrick/Pictures/20240723-61\"\n",
    "\n",
    "project_data = load_project_data(PROJECT_PATH)\n",
    "\n",
    "features = project_data[\"features\"]\n",
    "\n",
    "for f in features:\n",
    "    print(f.name.value, f.status.value, f.pos.value)\n"
   ]
  },
  {
   "cell_type": "code",
   "execution_count": null,
   "metadata": {},
   "outputs": [],
   "source": []
  },
  {
   "cell_type": "code",
   "execution_count": null,
   "metadata": {},
   "outputs": [],
   "source": [
    "\n",
    "initial_position = None\n",
    "if initial_position is None:\n",
    "    initial_position = stage.position.value\n",
    "\n",
    "f = stage.moveAbs(initial_position)\n",
    "f.result()\n",
    "print(f\"Current Stage Position: {initial_position}\")\n",
    "\n",
    "# move to FM IMAGING\n",
    "current_posture = pm.getCurrentPostureLabel()\n",
    "print(f\"Current Posture: {POSITION_NAMES[current_posture]}\")\n",
    "\n",
    "ZSTACK = random.choice([True, False])\n",
    "\n",
    "zlevels = {}  # Stream: List[float]\n",
    "if ZSTACK:\n",
    "    zmin = -2e-6\n",
    "    zmax = 2e-6\n",
    "    zstep = 1e-6\n",
    "    levels = generate_zlevels(focuser=focus, zrange=(zmin, zmax), zstep=zstep)\n",
    "\n",
    "    zlevels = {s: levels for s in [fm_stream] if isinstance(s, (FluoStream))}\n",
    "\n",
    "print(f\"Z-stack enabled: {ZSTACK}\")\n",
    "if ZSTACK:\n",
    "    # get the number of z-levels\n",
    "    n_zlevels = len(list(zlevels.values())[0])\n",
    "    print(f\"Number of z-levels: {n_zlevels}\")\n",
    "    print(f\"Z-levels\", zlevels.values())\n",
    "\n",
    "# TODO: export data\n",
    "# TODO: time estimattion\n",
    "# TODO: display data in UI\n",
    "\n",
    "filename = os.path.join(PROJECT_PATH, \"test-auto-acq.ome.tiff\")\n",
    "\n",
    "features[1].status.value = FEATURE_DEACTIVE\n",
    "\n",
    "f = acquire_at_features(features, stage, focus, [fm_stream], zlevels=zlevels, filename=filename)\n",
    "f.result()"
   ]
  },
  {
   "cell_type": "code",
   "execution_count": null,
   "metadata": {},
   "outputs": [],
   "source": [
    "focus.moveAbs({\"z\": 1.69e-3})\n",
    "\n",
    "focus.position.value"
   ]
  }
 ],
 "metadata": {
  "kernelspec": {
   "display_name": "Python 3",
   "language": "python",
   "name": "python3"
  },
  "language_info": {
   "codemirror_mode": {
    "name": "ipython",
    "version": 3
   },
   "file_extension": ".py",
   "mimetype": "text/x-python",
   "name": "python",
   "nbconvert_exporter": "python",
   "pygments_lexer": "ipython3",
   "version": "3.10.12"
  }
 },
 "nbformat": 4,
 "nbformat_minor": 2
}
